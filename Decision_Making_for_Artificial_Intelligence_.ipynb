{
  "nbformat": 4,
  "nbformat_minor": 0,
  "metadata": {
    "colab": {
      "provenance": []
    },
    "kernelspec": {
      "name": "python3",
      "display_name": "Python 3"
    },
    "language_info": {
      "name": "python"
    }
  },
  "cells": [
    {
      "cell_type": "code",
      "execution_count": null,
      "metadata": {
        "id": "LDFTOzayeZJD"
      },
      "outputs": [],
      "source": [
        "#Week 3 for decision making for ai\n"
      ]
    },
    {
      "cell_type": "code",
      "source": [
        "from scipy.optimize import linprog\n",
        "c=[-4,-2,-3]\n",
        "\n",
        "A = [[7, 3, 6], [4, 4, 5]]\n",
        "b = [150, 200]\n",
        "bounds = [(0, None), (0, None), (0, None)]\n",
        "result=linprog(c, A_ub=A, b_ub=b, bounds=bounds)\n",
        "print(result)"
      ],
      "metadata": {
        "colab": {
          "base_uri": "https://localhost:8080/"
        },
        "id": "Oq2IHfuCeruX",
        "outputId": "c92f7277-e993-4c05-a37c-a8ed48c31f4d"
      },
      "execution_count": null,
      "outputs": [
        {
          "output_type": "stream",
          "name": "stdout",
          "text": [
            "        message: Optimization terminated successfully. (HiGHS Status 7: Optimal)\n",
            "        success: True\n",
            "         status: 0\n",
            "            fun: -100.0\n",
            "              x: [ 0.000e+00  5.000e+01  0.000e+00]\n",
            "            nit: 1\n",
            "          lower:  residual: [ 0.000e+00  5.000e+01  0.000e+00]\n",
            "                 marginals: [ 6.667e-01  0.000e+00  1.000e+00]\n",
            "          upper:  residual: [       inf        inf        inf]\n",
            "                 marginals: [ 0.000e+00  0.000e+00  0.000e+00]\n",
            "          eqlin:  residual: []\n",
            "                 marginals: []\n",
            "        ineqlin:  residual: [ 0.000e+00  0.000e+00]\n",
            "                 marginals: [-6.667e-01 -0.000e+00]\n",
            " mip_node_count: 0\n",
            " mip_dual_bound: 0.0\n",
            "        mip_gap: 0.0\n"
          ]
        }
      ]
    },
    {
      "cell_type": "code",
      "source": [
        "#practice\n"
      ],
      "metadata": {
        "id": "sMw5HLSygAY-"
      },
      "execution_count": null,
      "outputs": []
    },
    {
      "cell_type": "code",
      "source": [
        "from scipy.optimize import linprog\n",
        "c=[-5,-4,-6]\n",
        "a=[2,1,3],[3,2,4]\n",
        "b=[160,200]\n",
        "bounds=[(0,None),(0,None),(0,None)]\n",
        "result=linprog(c,A_ub=a,b_ub=b,bounds=bounds)\n",
        "print(result)"
      ],
      "metadata": {
        "colab": {
          "base_uri": "https://localhost:8080/"
        },
        "id": "QdQIhHhQ-Cm_",
        "outputId": "45297ae4-2f43-44c3-c9e0-b28b7c03ad9b"
      },
      "execution_count": null,
      "outputs": [
        {
          "output_type": "stream",
          "name": "stdout",
          "text": [
            "        message: Optimization terminated successfully. (HiGHS Status 7: Optimal)\n",
            "        success: True\n",
            "         status: 0\n",
            "            fun: -400.0\n",
            "              x: [ 0.000e+00  1.000e+02  0.000e+00]\n",
            "            nit: 1\n",
            "          lower:  residual: [ 0.000e+00  1.000e+02  0.000e+00]\n",
            "                 marginals: [ 1.000e+00  0.000e+00  2.000e+00]\n",
            "          upper:  residual: [       inf        inf        inf]\n",
            "                 marginals: [ 0.000e+00  0.000e+00  0.000e+00]\n",
            "          eqlin:  residual: []\n",
            "                 marginals: []\n",
            "        ineqlin:  residual: [ 6.000e+01  0.000e+00]\n",
            "                 marginals: [-0.000e+00 -2.000e+00]\n",
            " mip_node_count: 0\n",
            " mip_dual_bound: 0.0\n",
            "        mip_gap: 0.0\n"
          ]
        }
      ]
    },
    {
      "cell_type": "code",
      "source": [
        "from scipy.optimize import linprog\n",
        "c=[-8,-5,-4]\n",
        "a=[6,3,2],[4,2,1]\n",
        "b=[240,160]\n",
        "bounds=[(0,None),(0,None),(0,None)]\n",
        "result=linprog(c,A_ub=a,b_ub=b,bounds=bounds)\n",
        "print(result)"
      ],
      "metadata": {
        "colab": {
          "base_uri": "https://localhost:8080/"
        },
        "id": "kaAGaabh-Kc2",
        "outputId": "a7105b8f-6b39-4907-ef97-36939fc02272"
      },
      "execution_count": null,
      "outputs": [
        {
          "output_type": "stream",
          "name": "stdout",
          "text": [
            "        message: Optimization terminated successfully. (HiGHS Status 7: Optimal)\n",
            "        success: True\n",
            "         status: 0\n",
            "            fun: -480.0\n",
            "              x: [ 0.000e+00  0.000e+00  1.200e+02]\n",
            "            nit: 1\n",
            "          lower:  residual: [ 0.000e+00  0.000e+00  1.200e+02]\n",
            "                 marginals: [ 4.000e+00  1.000e+00  0.000e+00]\n",
            "          upper:  residual: [       inf        inf        inf]\n",
            "                 marginals: [ 0.000e+00  0.000e+00  0.000e+00]\n",
            "          eqlin:  residual: []\n",
            "                 marginals: []\n",
            "        ineqlin:  residual: [ 0.000e+00  4.000e+01]\n",
            "                 marginals: [-2.000e+00 -0.000e+00]\n",
            " mip_node_count: 0\n",
            " mip_dual_bound: 0.0\n",
            "        mip_gap: 0.0\n"
          ]
        }
      ]
    },
    {
      "cell_type": "code",
      "source": [
        "from scipy.optimize import linprog\n",
        "c=[-3,-4,-5]\n",
        "a=[1,2,3],[2,1,2],[1,1,1]\n",
        "b=[150,160,80]\n",
        "bounds=[(0,None),(0,None),(0,None)]\n",
        "result=linprog(c,A_ub=a,b_ub=b,bounds=bounds)\n",
        "print(result)"
      ],
      "metadata": {
        "colab": {
          "base_uri": "https://localhost:8080/"
        },
        "id": "R-bfrh2PQkLd",
        "outputId": "03330633-ab1b-4c72-9b16-7c94447799e9"
      },
      "execution_count": null,
      "outputs": [
        {
          "output_type": "stream",
          "name": "stdout",
          "text": [
            "        message: Optimization terminated successfully. (HiGHS Status 7: Optimal)\n",
            "        success: True\n",
            "         status: 0\n",
            "            fun: -310.0\n",
            "              x: [ 4.500e+01 -0.000e+00  3.500e+01]\n",
            "            nit: 3\n",
            "          lower:  residual: [ 4.500e+01 -0.000e+00  3.500e+01]\n",
            "                 marginals: [ 0.000e+00  0.000e+00  0.000e+00]\n",
            "          upper:  residual: [       inf        inf        inf]\n",
            "                 marginals: [ 0.000e+00  0.000e+00  0.000e+00]\n",
            "          eqlin:  residual: []\n",
            "                 marginals: []\n",
            "        ineqlin:  residual: [ 0.000e+00  0.000e+00  0.000e+00]\n",
            "                 marginals: [-1.000e+00 -0.000e+00 -2.000e+00]\n",
            " mip_node_count: 0\n",
            " mip_dual_bound: 0.0\n",
            "        mip_gap: 0.0\n"
          ]
        }
      ]
    },
    {
      "cell_type": "code",
      "source": [
        "from scipy.optimize import linprog\n",
        "c=[-1.2,1.7]\n",
        "a=[3000,4000,5000]\n",
        "b=[]\n",
        "bounds=[(0,None),(0,None),(0,None)]\n",
        "result=linprog(c,A_ub=a,b_ub=b,bounds=bounds,method=\"highs\")\n",
        "print(result)"
      ],
      "metadata": {
        "id": "iroj16m8S_XA"
      },
      "execution_count": null,
      "outputs": []
    },
    {
      "cell_type": "code",
      "source": [
        "%pip install pulp\n",
        "from pulp import *\n",
        "S=LpProblem(\"Maximize Bakery Profits\",LpMaximize)\n",
        "Xc=LpVariable(\"Carrot\",0)\n",
        "Xp=LpVariable(\"Potatoes\",0)\n",
        "S += 1.2*Xp + 1.7*Xc\n",
        "S += Xp<=3000\n",
        "S += Xc<=4000\n",
        "S += Xp + Xc<=5000\n",
        "S.solve()\n",
        "\n",
        "print(\"Max_profit=£\",value(S.objective))\n",
        "print(\"Potatoes=\",Xp.varValue)\n",
        "print(\"Carrots=\",Xc.varValue)"
      ],
      "metadata": {
        "colab": {
          "base_uri": "https://localhost:8080/"
        },
        "id": "P1RiAYzLLSIh",
        "outputId": "f7c3ffb4-0acf-46e2-a2eb-c15316b60a12"
      },
      "execution_count": null,
      "outputs": [
        {
          "output_type": "stream",
          "name": "stdout",
          "text": [
            "Requirement already satisfied: pulp in /usr/local/lib/python3.11/dist-packages (3.2.1)\n",
            "Max_profit=£ 8000.0\n",
            "Potatoes= 1000.0\n",
            "Carrots= 4000.0\n"
          ]
        },
        {
          "output_type": "stream",
          "name": "stderr",
          "text": [
            "/usr/local/lib/python3.11/dist-packages/pulp/pulp.py:1455: UserWarning: Spaces are not permitted in the name. Converted to '_'\n",
            "  warnings.warn(\"Spaces are not permitted in the name. Converted to '_'\")\n"
          ]
        }
      ]
    },
    {
      "cell_type": "code",
      "source": [
        "#Blending problem\n",
        "from pulp import *\n",
        "prob = LpProblem(\"Whiskas Problem\",LpMinimize)\n",
        "x1=LpVariable(\"ChickenPercent\",0,100)\n",
        "x2=Lpvariable(\"BeefPercent\",0,100)\n",
        "prob += 0.013*x1 + 0.008*x2,\"Total Cost of Ingredients per can\"\n",
        "prob += x1 + x2 == 100,\"Percentage sum\"\n",
        "prob += 0.100*x1 + 0.200*x2 >= 8.0,\"Protein Requirement\"\n",
        "prob += 0.080*x1 + 0.100*x2 >= 6.0,\"Fat Requirement\"\n",
        "prob.writeLP(\"WhiskasModel.lp\")\n",
        "prob.solve()\n",
        "print(\"Status:\", LpStatus[prob.status])\n",
        "for v in prob.variables():\n",
        "    print(v.name, \"=\", v.varValue)\n",
        "print(\"Total Cost of Ingredients per can = \", value(prob.objective))\n"
      ],
      "metadata": {
        "id": "mv4Wq20mhKj1",
        "colab": {
          "base_uri": "https://localhost:8080/",
          "height": 383
        },
        "outputId": "37e9a8c5-ebfd-462e-ac30-2b4ed1a9badc"
      },
      "execution_count": null,
      "outputs": [
        {
          "output_type": "error",
          "ename": "ModuleNotFoundError",
          "evalue": "No module named 'pulp'",
          "traceback": [
            "\u001b[0;31m---------------------------------------------------------------------------\u001b[0m",
            "\u001b[0;31mModuleNotFoundError\u001b[0m                       Traceback (most recent call last)",
            "\u001b[0;32m/tmp/ipython-input-1-2828429851.py\u001b[0m in \u001b[0;36m<cell line: 0>\u001b[0;34m()\u001b[0m\n\u001b[1;32m      1\u001b[0m \u001b[0;31m#Blending problem\u001b[0m\u001b[0;34m\u001b[0m\u001b[0;34m\u001b[0m\u001b[0m\n\u001b[0;32m----> 2\u001b[0;31m \u001b[0;32mfrom\u001b[0m \u001b[0mpulp\u001b[0m \u001b[0;32mimport\u001b[0m \u001b[0;34m*\u001b[0m\u001b[0;34m\u001b[0m\u001b[0;34m\u001b[0m\u001b[0m\n\u001b[0m\u001b[1;32m      3\u001b[0m \u001b[0mprob\u001b[0m \u001b[0;34m=\u001b[0m \u001b[0mLpProblem\u001b[0m\u001b[0;34m(\u001b[0m\u001b[0;34m\"Whiskas Problem\"\u001b[0m\u001b[0;34m,\u001b[0m\u001b[0mLpMinimize\u001b[0m\u001b[0;34m)\u001b[0m\u001b[0;34m\u001b[0m\u001b[0;34m\u001b[0m\u001b[0m\n\u001b[1;32m      4\u001b[0m \u001b[0mx1\u001b[0m\u001b[0;34m=\u001b[0m\u001b[0mLpVariable\u001b[0m\u001b[0;34m(\u001b[0m\u001b[0;34m\"ChickenPercent\"\u001b[0m\u001b[0;34m,\u001b[0m\u001b[0;36m0\u001b[0m\u001b[0;34m,\u001b[0m\u001b[0;36m100\u001b[0m\u001b[0;34m)\u001b[0m\u001b[0;34m\u001b[0m\u001b[0;34m\u001b[0m\u001b[0m\n\u001b[1;32m      5\u001b[0m \u001b[0mx2\u001b[0m\u001b[0;34m=\u001b[0m\u001b[0mLpvariable\u001b[0m\u001b[0;34m(\u001b[0m\u001b[0;34m\"BeefPercent\"\u001b[0m\u001b[0;34m,\u001b[0m\u001b[0;36m0\u001b[0m\u001b[0;34m,\u001b[0m\u001b[0;36m100\u001b[0m\u001b[0;34m)\u001b[0m\u001b[0;34m\u001b[0m\u001b[0;34m\u001b[0m\u001b[0m\n",
            "\u001b[0;31mModuleNotFoundError\u001b[0m: No module named 'pulp'",
            "",
            "\u001b[0;31m---------------------------------------------------------------------------\u001b[0;32m\nNOTE: If your import is failing due to a missing package, you can\nmanually install dependencies using either !pip or !apt.\n\nTo view examples of installing some common dependencies, click the\n\"Open Examples\" button below.\n\u001b[0;31m---------------------------------------------------------------------------\u001b[0m\n"
          ],
          "errorDetails": {
            "actions": [
              {
                "action": "open_url",
                "actionText": "Open Examples",
                "url": "/notebooks/snippets/importing_libraries.ipynb"
              }
            ]
          }
        }
      ]
    },
    {
      "cell_type": "code",
      "source": [],
      "metadata": {
        "id": "6ZRgyJGOhKh3"
      },
      "execution_count": null,
      "outputs": []
    },
    {
      "cell_type": "code",
      "metadata": {
        "id": "6703f0a6"
      },
      "source": [
        "%pip install pulp"
      ],
      "execution_count": null,
      "outputs": []
    },
    {
      "cell_type": "code",
      "metadata": {
        "colab": {
          "base_uri": "https://localhost:8080/",
          "height": 383
        },
        "id": "18e2323d",
        "outputId": "4d1b34db-d651-4ccd-ac13-141d2365b993"
      },
      "source": [
        "#Blending problem\n",
        "from pulp import *\n",
        "prob = LpProblem(\"Whiskas Problem\",LpMinimize)\n",
        "x1=LpVariable(\"ChickenPercent\",0,100)\n",
        "x2=LpVariable(\"BeefPercent\",0,100) # Corrected typo: Lpvariable to LpVariable\n",
        "prob += 0.013*x1 + 0.008*x2,\"Total Cost of Ingredients per can\"\n",
        "prob += x1 + x2 == 100,\"Percentage sum\"\n",
        "prob += 0.100*x1 + 0.200*x2 >= 8.0,\"Protein Requirement\"\n",
        "prob += 0.080*x1 + 0.100*x2 >= 6.0,\"Fat Requirement\"\n",
        "prob.writeLP(\"WhiskasModel.lp\")\n",
        "prob.solve()\n",
        "print(\"Status:\", LpStatus[prob.status])\n",
        "for v in prob.variables():\n",
        "    print(v.name, \"=\", v.varValue)\n",
        "print(\"Total Cost of Ingredients per can = \", value(prob.objective))"
      ],
      "execution_count": null,
      "outputs": [
        {
          "output_type": "error",
          "ename": "ModuleNotFoundError",
          "evalue": "No module named 'pulp'",
          "traceback": [
            "\u001b[0;31m---------------------------------------------------------------------------\u001b[0m",
            "\u001b[0;31mModuleNotFoundError\u001b[0m                       Traceback (most recent call last)",
            "\u001b[0;32m/tmp/ipython-input-3-2200612948.py\u001b[0m in \u001b[0;36m<cell line: 0>\u001b[0;34m()\u001b[0m\n\u001b[1;32m      1\u001b[0m \u001b[0;31m#Blending problem\u001b[0m\u001b[0;34m\u001b[0m\u001b[0;34m\u001b[0m\u001b[0m\n\u001b[0;32m----> 2\u001b[0;31m \u001b[0;32mfrom\u001b[0m \u001b[0mpulp\u001b[0m \u001b[0;32mimport\u001b[0m \u001b[0;34m*\u001b[0m\u001b[0;34m\u001b[0m\u001b[0;34m\u001b[0m\u001b[0m\n\u001b[0m\u001b[1;32m      3\u001b[0m \u001b[0mprob\u001b[0m \u001b[0;34m=\u001b[0m \u001b[0mLpProblem\u001b[0m\u001b[0;34m(\u001b[0m\u001b[0;34m\"Whiskas Problem\"\u001b[0m\u001b[0;34m,\u001b[0m\u001b[0mLpMinimize\u001b[0m\u001b[0;34m)\u001b[0m\u001b[0;34m\u001b[0m\u001b[0;34m\u001b[0m\u001b[0m\n\u001b[1;32m      4\u001b[0m \u001b[0mx1\u001b[0m\u001b[0;34m=\u001b[0m\u001b[0mLpVariable\u001b[0m\u001b[0;34m(\u001b[0m\u001b[0;34m\"ChickenPercent\"\u001b[0m\u001b[0;34m,\u001b[0m\u001b[0;36m0\u001b[0m\u001b[0;34m,\u001b[0m\u001b[0;36m100\u001b[0m\u001b[0;34m)\u001b[0m\u001b[0;34m\u001b[0m\u001b[0;34m\u001b[0m\u001b[0m\n\u001b[1;32m      5\u001b[0m \u001b[0mx2\u001b[0m\u001b[0;34m=\u001b[0m\u001b[0mLpVariable\u001b[0m\u001b[0;34m(\u001b[0m\u001b[0;34m\"BeefPercent\"\u001b[0m\u001b[0;34m,\u001b[0m\u001b[0;36m0\u001b[0m\u001b[0;34m,\u001b[0m\u001b[0;36m100\u001b[0m\u001b[0;34m)\u001b[0m \u001b[0;31m# Corrected typo: Lpvariable to LpVariable\u001b[0m\u001b[0;34m\u001b[0m\u001b[0;34m\u001b[0m\u001b[0m\n",
            "\u001b[0;31mModuleNotFoundError\u001b[0m: No module named 'pulp'",
            "",
            "\u001b[0;31m---------------------------------------------------------------------------\u001b[0;32m\nNOTE: If your import is failing due to a missing package, you can\nmanually install dependencies using either !pip or !apt.\n\nTo view examples of installing some common dependencies, click the\n\"Open Examples\" button below.\n\u001b[0;31m---------------------------------------------------------------------------\u001b[0m\n"
          ],
          "errorDetails": {
            "actions": [
              {
                "action": "open_url",
                "actionText": "Open Examples",
                "url": "/notebooks/snippets/importing_libraries.ipynb"
              }
            ]
          }
        }
      ]
    },
    {
      "cell_type": "code",
      "source": [
        "def fibonacci(n):\n",
        "\n",
        "    sequence = []\n",
        "    a, b = 0, 1\n",
        "    count = 0\n",
        "    while count < n:\n",
        "        sequence.append(a)\n",
        "        a, b = b, a + b\n",
        "        count += 1\n",
        "    return sequence\n",
        "\n",
        "number_of_terms = 10\n",
        "fib = fibonacci(number_of_terms)\n",
        "print(f\"Fibonacci up to {number_of_terms} terms: {fib}\")"
      ],
      "metadata": {
        "colab": {
          "base_uri": "https://localhost:8080/"
        },
        "id": "8nboVViIOnrG",
        "outputId": "682a42b4-4722-48d5-a1d6-7e96982612a2"
      },
      "execution_count": null,
      "outputs": [
        {
          "output_type": "stream",
          "name": "stdout",
          "text": [
            "Fibonacci up to 10 terms: [0, 1, 1, 2, 3, 5, 8, 13, 21, 34]\n"
          ]
        }
      ]
    },
    {
      "cell_type": "code",
      "source": [
        "from random import randint, sample\n",
        "def get_S_t(n, MAX_X = 100):\n",
        "    S = [randint(1,MAX_X) for i in range(n)]\n",
        "    t = sum(sample(S,randint(1,n)))\n",
        "    return S,t\n",
        "get_S_t(10)"
      ],
      "metadata": {
        "colab": {
          "base_uri": "https://localhost:8080/"
        },
        "id": "_iWscQwIO9Mv",
        "outputId": "c923bc68-1f18-42f2-8468-26a49fafed37"
      },
      "execution_count": null,
      "outputs": [
        {
          "output_type": "execute_result",
          "data": {
            "text/plain": [
              "([68, 68, 50, 27, 80, 11, 54, 64, 90, 57], 569)"
            ]
          },
          "metadata": {},
          "execution_count": 12
        }
      ]
    },
    {
      "cell_type": "code",
      "source": [],
      "metadata": {
        "id": "q5py2lW5kXz3"
      },
      "execution_count": null,
      "outputs": []
    }
  ]
}